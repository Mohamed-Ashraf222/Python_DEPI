{
 "cells": [
  {
   "cell_type": "code",
   "execution_count": 3,
   "metadata": {},
   "outputs": [
    {
     "name": "stdout",
     "output_type": "stream",
     "text": [
      "GOOD MORNING HELLOO\n"
     ]
    }
   ],
   "source": [
    "def upper_custom(text):\n",
    "    word = \"\"\n",
    "    for char in text:\n",
    "        if 'a' <= char <= 'z':\n",
    "            word += chr(ord(char) - 32)\n",
    "        else:\n",
    "            word += char\n",
    "    return word\n",
    "\n",
    "input_text = input(\"enter a text: \")\n",
    "output_text = upper_custom(input_text)\n",
    "print(output_text)\n"
   ]
  }
 ],
 "metadata": {
  "kernelspec": {
   "display_name": "Data",
   "language": "python",
   "name": "python3"
  },
  "language_info": {
   "codemirror_mode": {
    "name": "ipython",
    "version": 3
   },
   "file_extension": ".py",
   "mimetype": "text/x-python",
   "name": "python",
   "nbconvert_exporter": "python",
   "pygments_lexer": "ipython3",
   "version": "3.11.4"
  }
 },
 "nbformat": 4,
 "nbformat_minor": 2
}
